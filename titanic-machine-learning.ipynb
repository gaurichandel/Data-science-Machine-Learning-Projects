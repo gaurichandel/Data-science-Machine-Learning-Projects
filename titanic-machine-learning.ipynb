{
 "cells": [
  {
   "cell_type": "code",
   "execution_count": 1,
   "id": "984003e9",
   "metadata": {
    "execution": {
     "iopub.execute_input": "2024-06-05T03:11:18.998146Z",
     "iopub.status.busy": "2024-06-05T03:11:18.997675Z",
     "iopub.status.idle": "2024-06-05T03:11:19.852381Z",
     "shell.execute_reply": "2024-06-05T03:11:19.851357Z"
    },
    "papermill": {
     "duration": 0.870858,
     "end_time": "2024-06-05T03:11:19.854968",
     "exception": false,
     "start_time": "2024-06-05T03:11:18.984110",
     "status": "completed"
    },
    "tags": []
   },
   "outputs": [],
   "source": [
    "import pandas as pd\n",
    "import numpy as np\n",
    "import warnings\n",
    "warnings.filterwarnings(action = 'ignore')"
   ]
  },
  {
   "cell_type": "code",
   "execution_count": 2,
   "id": "3f772b6f",
   "metadata": {
    "execution": {
     "iopub.execute_input": "2024-06-05T03:11:19.879723Z",
     "iopub.status.busy": "2024-06-05T03:11:19.879257Z",
     "iopub.status.idle": "2024-06-05T03:11:19.886061Z",
     "shell.execute_reply": "2024-06-05T03:11:19.884971Z"
    },
    "papermill": {
     "duration": 0.021692,
     "end_time": "2024-06-05T03:11:19.888410",
     "exception": false,
     "start_time": "2024-06-05T03:11:19.866718",
     "status": "completed"
    },
    "tags": []
   },
   "outputs": [
    {
     "name": "stdout",
     "output_type": "stream",
     "text": [
      "/kaggle/input/titanic/train.csv\n",
      "/kaggle/input/titanic/test.csv\n",
      "/kaggle/input/titanic/gender_submission.csv\n"
     ]
    }
   ],
   "source": [
    "import os\n",
    "for dirname, _, filenames in os.walk('/kaggle/input'):\n",
    "    for filename in filenames:\n",
    "        print(os.path.join(dirname, filename))\n"
   ]
  },
  {
   "cell_type": "code",
   "execution_count": 3,
   "id": "7b054df7",
   "metadata": {
    "execution": {
     "iopub.execute_input": "2024-06-05T03:11:19.912896Z",
     "iopub.status.busy": "2024-06-05T03:11:19.912514Z",
     "iopub.status.idle": "2024-06-05T03:11:19.942355Z",
     "shell.execute_reply": "2024-06-05T03:11:19.941245Z"
    },
    "papermill": {
     "duration": 0.04497,
     "end_time": "2024-06-05T03:11:19.945024",
     "exception": false,
     "start_time": "2024-06-05T03:11:19.900054",
     "status": "completed"
    },
    "tags": []
   },
   "outputs": [],
   "source": [
    "train = pd.read_csv(\"/kaggle/input/titanic/train.csv\")\n",
    "test = pd.read_csv(\"/kaggle/input/titanic/test.csv\")"
   ]
  },
  {
   "cell_type": "code",
   "execution_count": 4,
   "id": "bac4573e",
   "metadata": {
    "execution": {
     "iopub.execute_input": "2024-06-05T03:11:19.970541Z",
     "iopub.status.busy": "2024-06-05T03:11:19.970127Z",
     "iopub.status.idle": "2024-06-05T03:11:19.997854Z",
     "shell.execute_reply": "2024-06-05T03:11:19.996799Z"
    },
    "papermill": {
     "duration": 0.043435,
     "end_time": "2024-06-05T03:11:20.000142",
     "exception": false,
     "start_time": "2024-06-05T03:11:19.956707",
     "status": "completed"
    },
    "tags": []
   },
   "outputs": [
    {
     "data": {
      "text/html": [
       "<div>\n",
       "<style scoped>\n",
       "    .dataframe tbody tr th:only-of-type {\n",
       "        vertical-align: middle;\n",
       "    }\n",
       "\n",
       "    .dataframe tbody tr th {\n",
       "        vertical-align: top;\n",
       "    }\n",
       "\n",
       "    .dataframe thead th {\n",
       "        text-align: right;\n",
       "    }\n",
       "</style>\n",
       "<table border=\"1\" class=\"dataframe\">\n",
       "  <thead>\n",
       "    <tr style=\"text-align: right;\">\n",
       "      <th></th>\n",
       "      <th>PassengerId</th>\n",
       "      <th>Survived</th>\n",
       "      <th>Pclass</th>\n",
       "      <th>Name</th>\n",
       "      <th>Sex</th>\n",
       "      <th>Age</th>\n",
       "      <th>SibSp</th>\n",
       "      <th>Parch</th>\n",
       "      <th>Ticket</th>\n",
       "      <th>Fare</th>\n",
       "      <th>Cabin</th>\n",
       "      <th>Embarked</th>\n",
       "    </tr>\n",
       "  </thead>\n",
       "  <tbody>\n",
       "    <tr>\n",
       "      <th>0</th>\n",
       "      <td>1</td>\n",
       "      <td>0</td>\n",
       "      <td>3</td>\n",
       "      <td>Braund, Mr. Owen Harris</td>\n",
       "      <td>male</td>\n",
       "      <td>22.0</td>\n",
       "      <td>1</td>\n",
       "      <td>0</td>\n",
       "      <td>A/5 21171</td>\n",
       "      <td>7.2500</td>\n",
       "      <td>NaN</td>\n",
       "      <td>S</td>\n",
       "    </tr>\n",
       "    <tr>\n",
       "      <th>1</th>\n",
       "      <td>2</td>\n",
       "      <td>1</td>\n",
       "      <td>1</td>\n",
       "      <td>Cumings, Mrs. John Bradley (Florence Briggs Th...</td>\n",
       "      <td>female</td>\n",
       "      <td>38.0</td>\n",
       "      <td>1</td>\n",
       "      <td>0</td>\n",
       "      <td>PC 17599</td>\n",
       "      <td>71.2833</td>\n",
       "      <td>C85</td>\n",
       "      <td>C</td>\n",
       "    </tr>\n",
       "    <tr>\n",
       "      <th>2</th>\n",
       "      <td>3</td>\n",
       "      <td>1</td>\n",
       "      <td>3</td>\n",
       "      <td>Heikkinen, Miss. Laina</td>\n",
       "      <td>female</td>\n",
       "      <td>26.0</td>\n",
       "      <td>0</td>\n",
       "      <td>0</td>\n",
       "      <td>STON/O2. 3101282</td>\n",
       "      <td>7.9250</td>\n",
       "      <td>NaN</td>\n",
       "      <td>S</td>\n",
       "    </tr>\n",
       "    <tr>\n",
       "      <th>3</th>\n",
       "      <td>4</td>\n",
       "      <td>1</td>\n",
       "      <td>1</td>\n",
       "      <td>Futrelle, Mrs. Jacques Heath (Lily May Peel)</td>\n",
       "      <td>female</td>\n",
       "      <td>35.0</td>\n",
       "      <td>1</td>\n",
       "      <td>0</td>\n",
       "      <td>113803</td>\n",
       "      <td>53.1000</td>\n",
       "      <td>C123</td>\n",
       "      <td>S</td>\n",
       "    </tr>\n",
       "    <tr>\n",
       "      <th>4</th>\n",
       "      <td>5</td>\n",
       "      <td>0</td>\n",
       "      <td>3</td>\n",
       "      <td>Allen, Mr. William Henry</td>\n",
       "      <td>male</td>\n",
       "      <td>35.0</td>\n",
       "      <td>0</td>\n",
       "      <td>0</td>\n",
       "      <td>373450</td>\n",
       "      <td>8.0500</td>\n",
       "      <td>NaN</td>\n",
       "      <td>S</td>\n",
       "    </tr>\n",
       "  </tbody>\n",
       "</table>\n",
       "</div>"
      ],
      "text/plain": [
       "   PassengerId  Survived  Pclass  \\\n",
       "0            1         0       3   \n",
       "1            2         1       1   \n",
       "2            3         1       3   \n",
       "3            4         1       1   \n",
       "4            5         0       3   \n",
       "\n",
       "                                                Name     Sex   Age  SibSp  \\\n",
       "0                            Braund, Mr. Owen Harris    male  22.0      1   \n",
       "1  Cumings, Mrs. John Bradley (Florence Briggs Th...  female  38.0      1   \n",
       "2                             Heikkinen, Miss. Laina  female  26.0      0   \n",
       "3       Futrelle, Mrs. Jacques Heath (Lily May Peel)  female  35.0      1   \n",
       "4                           Allen, Mr. William Henry    male  35.0      0   \n",
       "\n",
       "   Parch            Ticket     Fare Cabin Embarked  \n",
       "0      0         A/5 21171   7.2500   NaN        S  \n",
       "1      0          PC 17599  71.2833   C85        C  \n",
       "2      0  STON/O2. 3101282   7.9250   NaN        S  \n",
       "3      0            113803  53.1000  C123        S  \n",
       "4      0            373450   8.0500   NaN        S  "
      ]
     },
     "execution_count": 4,
     "metadata": {},
     "output_type": "execute_result"
    }
   ],
   "source": [
    "train.head()"
   ]
  },
  {
   "cell_type": "code",
   "execution_count": 5,
   "id": "b44470f7",
   "metadata": {
    "execution": {
     "iopub.execute_input": "2024-06-05T03:11:20.025586Z",
     "iopub.status.busy": "2024-06-05T03:11:20.025185Z",
     "iopub.status.idle": "2024-06-05T03:11:20.040941Z",
     "shell.execute_reply": "2024-06-05T03:11:20.039793Z"
    },
    "papermill": {
     "duration": 0.031136,
     "end_time": "2024-06-05T03:11:20.043566",
     "exception": false,
     "start_time": "2024-06-05T03:11:20.012430",
     "status": "completed"
    },
    "tags": []
   },
   "outputs": [
    {
     "data": {
      "text/html": [
       "<div>\n",
       "<style scoped>\n",
       "    .dataframe tbody tr th:only-of-type {\n",
       "        vertical-align: middle;\n",
       "    }\n",
       "\n",
       "    .dataframe tbody tr th {\n",
       "        vertical-align: top;\n",
       "    }\n",
       "\n",
       "    .dataframe thead th {\n",
       "        text-align: right;\n",
       "    }\n",
       "</style>\n",
       "<table border=\"1\" class=\"dataframe\">\n",
       "  <thead>\n",
       "    <tr style=\"text-align: right;\">\n",
       "      <th></th>\n",
       "      <th>PassengerId</th>\n",
       "      <th>Pclass</th>\n",
       "      <th>Name</th>\n",
       "      <th>Sex</th>\n",
       "      <th>Age</th>\n",
       "      <th>SibSp</th>\n",
       "      <th>Parch</th>\n",
       "      <th>Ticket</th>\n",
       "      <th>Fare</th>\n",
       "      <th>Cabin</th>\n",
       "      <th>Embarked</th>\n",
       "    </tr>\n",
       "  </thead>\n",
       "  <tbody>\n",
       "    <tr>\n",
       "      <th>0</th>\n",
       "      <td>892</td>\n",
       "      <td>3</td>\n",
       "      <td>Kelly, Mr. James</td>\n",
       "      <td>male</td>\n",
       "      <td>34.5</td>\n",
       "      <td>0</td>\n",
       "      <td>0</td>\n",
       "      <td>330911</td>\n",
       "      <td>7.8292</td>\n",
       "      <td>NaN</td>\n",
       "      <td>Q</td>\n",
       "    </tr>\n",
       "    <tr>\n",
       "      <th>1</th>\n",
       "      <td>893</td>\n",
       "      <td>3</td>\n",
       "      <td>Wilkes, Mrs. James (Ellen Needs)</td>\n",
       "      <td>female</td>\n",
       "      <td>47.0</td>\n",
       "      <td>1</td>\n",
       "      <td>0</td>\n",
       "      <td>363272</td>\n",
       "      <td>7.0000</td>\n",
       "      <td>NaN</td>\n",
       "      <td>S</td>\n",
       "    </tr>\n",
       "    <tr>\n",
       "      <th>2</th>\n",
       "      <td>894</td>\n",
       "      <td>2</td>\n",
       "      <td>Myles, Mr. Thomas Francis</td>\n",
       "      <td>male</td>\n",
       "      <td>62.0</td>\n",
       "      <td>0</td>\n",
       "      <td>0</td>\n",
       "      <td>240276</td>\n",
       "      <td>9.6875</td>\n",
       "      <td>NaN</td>\n",
       "      <td>Q</td>\n",
       "    </tr>\n",
       "    <tr>\n",
       "      <th>3</th>\n",
       "      <td>895</td>\n",
       "      <td>3</td>\n",
       "      <td>Wirz, Mr. Albert</td>\n",
       "      <td>male</td>\n",
       "      <td>27.0</td>\n",
       "      <td>0</td>\n",
       "      <td>0</td>\n",
       "      <td>315154</td>\n",
       "      <td>8.6625</td>\n",
       "      <td>NaN</td>\n",
       "      <td>S</td>\n",
       "    </tr>\n",
       "    <tr>\n",
       "      <th>4</th>\n",
       "      <td>896</td>\n",
       "      <td>3</td>\n",
       "      <td>Hirvonen, Mrs. Alexander (Helga E Lindqvist)</td>\n",
       "      <td>female</td>\n",
       "      <td>22.0</td>\n",
       "      <td>1</td>\n",
       "      <td>1</td>\n",
       "      <td>3101298</td>\n",
       "      <td>12.2875</td>\n",
       "      <td>NaN</td>\n",
       "      <td>S</td>\n",
       "    </tr>\n",
       "  </tbody>\n",
       "</table>\n",
       "</div>"
      ],
      "text/plain": [
       "   PassengerId  Pclass                                          Name     Sex  \\\n",
       "0          892       3                              Kelly, Mr. James    male   \n",
       "1          893       3              Wilkes, Mrs. James (Ellen Needs)  female   \n",
       "2          894       2                     Myles, Mr. Thomas Francis    male   \n",
       "3          895       3                              Wirz, Mr. Albert    male   \n",
       "4          896       3  Hirvonen, Mrs. Alexander (Helga E Lindqvist)  female   \n",
       "\n",
       "    Age  SibSp  Parch   Ticket     Fare Cabin Embarked  \n",
       "0  34.5      0      0   330911   7.8292   NaN        Q  \n",
       "1  47.0      1      0   363272   7.0000   NaN        S  \n",
       "2  62.0      0      0   240276   9.6875   NaN        Q  \n",
       "3  27.0      0      0   315154   8.6625   NaN        S  \n",
       "4  22.0      1      1  3101298  12.2875   NaN        S  "
      ]
     },
     "execution_count": 5,
     "metadata": {},
     "output_type": "execute_result"
    }
   ],
   "source": [
    "test.head()"
   ]
  },
  {
   "cell_type": "code",
   "execution_count": 6,
   "id": "f2bebe30",
   "metadata": {
    "execution": {
     "iopub.execute_input": "2024-06-05T03:11:20.069461Z",
     "iopub.status.busy": "2024-06-05T03:11:20.069086Z",
     "iopub.status.idle": "2024-06-05T03:11:20.092826Z",
     "shell.execute_reply": "2024-06-05T03:11:20.091661Z"
    },
    "papermill": {
     "duration": 0.03927,
     "end_time": "2024-06-05T03:11:20.095297",
     "exception": false,
     "start_time": "2024-06-05T03:11:20.056027",
     "status": "completed"
    },
    "tags": []
   },
   "outputs": [
    {
     "name": "stdout",
     "output_type": "stream",
     "text": [
      "<class 'pandas.core.frame.DataFrame'>\n",
      "RangeIndex: 891 entries, 0 to 890\n",
      "Data columns (total 12 columns):\n",
      " #   Column       Non-Null Count  Dtype  \n",
      "---  ------       --------------  -----  \n",
      " 0   PassengerId  891 non-null    int64  \n",
      " 1   Survived     891 non-null    int64  \n",
      " 2   Pclass       891 non-null    int64  \n",
      " 3   Name         891 non-null    object \n",
      " 4   Sex          891 non-null    object \n",
      " 5   Age          714 non-null    float64\n",
      " 6   SibSp        891 non-null    int64  \n",
      " 7   Parch        891 non-null    int64  \n",
      " 8   Ticket       891 non-null    object \n",
      " 9   Fare         891 non-null    float64\n",
      " 10  Cabin        204 non-null    object \n",
      " 11  Embarked     889 non-null    object \n",
      "dtypes: float64(2), int64(5), object(5)\n",
      "memory usage: 83.7+ KB\n"
     ]
    }
   ],
   "source": [
    "train.info()"
   ]
  },
  {
   "cell_type": "code",
   "execution_count": 7,
   "id": "d2c6e55e",
   "metadata": {
    "execution": {
     "iopub.execute_input": "2024-06-05T03:11:20.121025Z",
     "iopub.status.busy": "2024-06-05T03:11:20.120683Z",
     "iopub.status.idle": "2024-06-05T03:11:20.132103Z",
     "shell.execute_reply": "2024-06-05T03:11:20.130882Z"
    },
    "papermill": {
     "duration": 0.026971,
     "end_time": "2024-06-05T03:11:20.134514",
     "exception": false,
     "start_time": "2024-06-05T03:11:20.107543",
     "status": "completed"
    },
    "tags": []
   },
   "outputs": [
    {
     "name": "stdout",
     "output_type": "stream",
     "text": [
      "<class 'pandas.core.frame.DataFrame'>\n",
      "RangeIndex: 418 entries, 0 to 417\n",
      "Data columns (total 11 columns):\n",
      " #   Column       Non-Null Count  Dtype  \n",
      "---  ------       --------------  -----  \n",
      " 0   PassengerId  418 non-null    int64  \n",
      " 1   Pclass       418 non-null    int64  \n",
      " 2   Name         418 non-null    object \n",
      " 3   Sex          418 non-null    object \n",
      " 4   Age          332 non-null    float64\n",
      " 5   SibSp        418 non-null    int64  \n",
      " 6   Parch        418 non-null    int64  \n",
      " 7   Ticket       418 non-null    object \n",
      " 8   Fare         417 non-null    float64\n",
      " 9   Cabin        91 non-null     object \n",
      " 10  Embarked     418 non-null    object \n",
      "dtypes: float64(2), int64(4), object(5)\n",
      "memory usage: 36.0+ KB\n"
     ]
    }
   ],
   "source": [
    "test.info()"
   ]
  },
  {
   "cell_type": "code",
   "execution_count": 8,
   "id": "6af0ad2e",
   "metadata": {
    "execution": {
     "iopub.execute_input": "2024-06-05T03:11:20.160578Z",
     "iopub.status.busy": "2024-06-05T03:11:20.160155Z",
     "iopub.status.idle": "2024-06-05T03:11:20.190996Z",
     "shell.execute_reply": "2024-06-05T03:11:20.189796Z"
    },
    "papermill": {
     "duration": 0.046912,
     "end_time": "2024-06-05T03:11:20.193429",
     "exception": false,
     "start_time": "2024-06-05T03:11:20.146517",
     "status": "completed"
    },
    "tags": []
   },
   "outputs": [
    {
     "data": {
      "text/html": [
       "<div>\n",
       "<style scoped>\n",
       "    .dataframe tbody tr th:only-of-type {\n",
       "        vertical-align: middle;\n",
       "    }\n",
       "\n",
       "    .dataframe tbody tr th {\n",
       "        vertical-align: top;\n",
       "    }\n",
       "\n",
       "    .dataframe thead th {\n",
       "        text-align: right;\n",
       "    }\n",
       "</style>\n",
       "<table border=\"1\" class=\"dataframe\">\n",
       "  <thead>\n",
       "    <tr style=\"text-align: right;\">\n",
       "      <th></th>\n",
       "      <th>PassengerId</th>\n",
       "      <th>Survived</th>\n",
       "      <th>Pclass</th>\n",
       "      <th>Age</th>\n",
       "      <th>SibSp</th>\n",
       "      <th>Parch</th>\n",
       "      <th>Fare</th>\n",
       "    </tr>\n",
       "  </thead>\n",
       "  <tbody>\n",
       "    <tr>\n",
       "      <th>count</th>\n",
       "      <td>891.000000</td>\n",
       "      <td>891.000000</td>\n",
       "      <td>891.000000</td>\n",
       "      <td>714.000000</td>\n",
       "      <td>891.000000</td>\n",
       "      <td>891.000000</td>\n",
       "      <td>891.000000</td>\n",
       "    </tr>\n",
       "    <tr>\n",
       "      <th>mean</th>\n",
       "      <td>446.000000</td>\n",
       "      <td>0.383838</td>\n",
       "      <td>2.308642</td>\n",
       "      <td>29.699118</td>\n",
       "      <td>0.523008</td>\n",
       "      <td>0.381594</td>\n",
       "      <td>32.204208</td>\n",
       "    </tr>\n",
       "    <tr>\n",
       "      <th>std</th>\n",
       "      <td>257.353842</td>\n",
       "      <td>0.486592</td>\n",
       "      <td>0.836071</td>\n",
       "      <td>14.526497</td>\n",
       "      <td>1.102743</td>\n",
       "      <td>0.806057</td>\n",
       "      <td>49.693429</td>\n",
       "    </tr>\n",
       "    <tr>\n",
       "      <th>min</th>\n",
       "      <td>1.000000</td>\n",
       "      <td>0.000000</td>\n",
       "      <td>1.000000</td>\n",
       "      <td>0.420000</td>\n",
       "      <td>0.000000</td>\n",
       "      <td>0.000000</td>\n",
       "      <td>0.000000</td>\n",
       "    </tr>\n",
       "    <tr>\n",
       "      <th>25%</th>\n",
       "      <td>223.500000</td>\n",
       "      <td>0.000000</td>\n",
       "      <td>2.000000</td>\n",
       "      <td>20.125000</td>\n",
       "      <td>0.000000</td>\n",
       "      <td>0.000000</td>\n",
       "      <td>7.910400</td>\n",
       "    </tr>\n",
       "    <tr>\n",
       "      <th>50%</th>\n",
       "      <td>446.000000</td>\n",
       "      <td>0.000000</td>\n",
       "      <td>3.000000</td>\n",
       "      <td>28.000000</td>\n",
       "      <td>0.000000</td>\n",
       "      <td>0.000000</td>\n",
       "      <td>14.454200</td>\n",
       "    </tr>\n",
       "    <tr>\n",
       "      <th>75%</th>\n",
       "      <td>668.500000</td>\n",
       "      <td>1.000000</td>\n",
       "      <td>3.000000</td>\n",
       "      <td>38.000000</td>\n",
       "      <td>1.000000</td>\n",
       "      <td>0.000000</td>\n",
       "      <td>31.000000</td>\n",
       "    </tr>\n",
       "    <tr>\n",
       "      <th>max</th>\n",
       "      <td>891.000000</td>\n",
       "      <td>1.000000</td>\n",
       "      <td>3.000000</td>\n",
       "      <td>80.000000</td>\n",
       "      <td>8.000000</td>\n",
       "      <td>6.000000</td>\n",
       "      <td>512.329200</td>\n",
       "    </tr>\n",
       "  </tbody>\n",
       "</table>\n",
       "</div>"
      ],
      "text/plain": [
       "       PassengerId    Survived      Pclass         Age       SibSp  \\\n",
       "count   891.000000  891.000000  891.000000  714.000000  891.000000   \n",
       "mean    446.000000    0.383838    2.308642   29.699118    0.523008   \n",
       "std     257.353842    0.486592    0.836071   14.526497    1.102743   \n",
       "min       1.000000    0.000000    1.000000    0.420000    0.000000   \n",
       "25%     223.500000    0.000000    2.000000   20.125000    0.000000   \n",
       "50%     446.000000    0.000000    3.000000   28.000000    0.000000   \n",
       "75%     668.500000    1.000000    3.000000   38.000000    1.000000   \n",
       "max     891.000000    1.000000    3.000000   80.000000    8.000000   \n",
       "\n",
       "            Parch        Fare  \n",
       "count  891.000000  891.000000  \n",
       "mean     0.381594   32.204208  \n",
       "std      0.806057   49.693429  \n",
       "min      0.000000    0.000000  \n",
       "25%      0.000000    7.910400  \n",
       "50%      0.000000   14.454200  \n",
       "75%      0.000000   31.000000  \n",
       "max      6.000000  512.329200  "
      ]
     },
     "execution_count": 8,
     "metadata": {},
     "output_type": "execute_result"
    }
   ],
   "source": [
    "train.describe()"
   ]
  },
  {
   "cell_type": "code",
   "execution_count": 9,
   "id": "396f0f05",
   "metadata": {
    "execution": {
     "iopub.execute_input": "2024-06-05T03:11:20.219519Z",
     "iopub.status.busy": "2024-06-05T03:11:20.219132Z",
     "iopub.status.idle": "2024-06-05T03:11:20.246224Z",
     "shell.execute_reply": "2024-06-05T03:11:20.245077Z"
    },
    "papermill": {
     "duration": 0.042821,
     "end_time": "2024-06-05T03:11:20.248480",
     "exception": false,
     "start_time": "2024-06-05T03:11:20.205659",
     "status": "completed"
    },
    "tags": []
   },
   "outputs": [
    {
     "data": {
      "text/html": [
       "<div>\n",
       "<style scoped>\n",
       "    .dataframe tbody tr th:only-of-type {\n",
       "        vertical-align: middle;\n",
       "    }\n",
       "\n",
       "    .dataframe tbody tr th {\n",
       "        vertical-align: top;\n",
       "    }\n",
       "\n",
       "    .dataframe thead th {\n",
       "        text-align: right;\n",
       "    }\n",
       "</style>\n",
       "<table border=\"1\" class=\"dataframe\">\n",
       "  <thead>\n",
       "    <tr style=\"text-align: right;\">\n",
       "      <th></th>\n",
       "      <th>PassengerId</th>\n",
       "      <th>Pclass</th>\n",
       "      <th>Age</th>\n",
       "      <th>SibSp</th>\n",
       "      <th>Parch</th>\n",
       "      <th>Fare</th>\n",
       "    </tr>\n",
       "  </thead>\n",
       "  <tbody>\n",
       "    <tr>\n",
       "      <th>count</th>\n",
       "      <td>418.000000</td>\n",
       "      <td>418.000000</td>\n",
       "      <td>332.000000</td>\n",
       "      <td>418.000000</td>\n",
       "      <td>418.000000</td>\n",
       "      <td>417.000000</td>\n",
       "    </tr>\n",
       "    <tr>\n",
       "      <th>mean</th>\n",
       "      <td>1100.500000</td>\n",
       "      <td>2.265550</td>\n",
       "      <td>30.272590</td>\n",
       "      <td>0.447368</td>\n",
       "      <td>0.392344</td>\n",
       "      <td>35.627188</td>\n",
       "    </tr>\n",
       "    <tr>\n",
       "      <th>std</th>\n",
       "      <td>120.810458</td>\n",
       "      <td>0.841838</td>\n",
       "      <td>14.181209</td>\n",
       "      <td>0.896760</td>\n",
       "      <td>0.981429</td>\n",
       "      <td>55.907576</td>\n",
       "    </tr>\n",
       "    <tr>\n",
       "      <th>min</th>\n",
       "      <td>892.000000</td>\n",
       "      <td>1.000000</td>\n",
       "      <td>0.170000</td>\n",
       "      <td>0.000000</td>\n",
       "      <td>0.000000</td>\n",
       "      <td>0.000000</td>\n",
       "    </tr>\n",
       "    <tr>\n",
       "      <th>25%</th>\n",
       "      <td>996.250000</td>\n",
       "      <td>1.000000</td>\n",
       "      <td>21.000000</td>\n",
       "      <td>0.000000</td>\n",
       "      <td>0.000000</td>\n",
       "      <td>7.895800</td>\n",
       "    </tr>\n",
       "    <tr>\n",
       "      <th>50%</th>\n",
       "      <td>1100.500000</td>\n",
       "      <td>3.000000</td>\n",
       "      <td>27.000000</td>\n",
       "      <td>0.000000</td>\n",
       "      <td>0.000000</td>\n",
       "      <td>14.454200</td>\n",
       "    </tr>\n",
       "    <tr>\n",
       "      <th>75%</th>\n",
       "      <td>1204.750000</td>\n",
       "      <td>3.000000</td>\n",
       "      <td>39.000000</td>\n",
       "      <td>1.000000</td>\n",
       "      <td>0.000000</td>\n",
       "      <td>31.500000</td>\n",
       "    </tr>\n",
       "    <tr>\n",
       "      <th>max</th>\n",
       "      <td>1309.000000</td>\n",
       "      <td>3.000000</td>\n",
       "      <td>76.000000</td>\n",
       "      <td>8.000000</td>\n",
       "      <td>9.000000</td>\n",
       "      <td>512.329200</td>\n",
       "    </tr>\n",
       "  </tbody>\n",
       "</table>\n",
       "</div>"
      ],
      "text/plain": [
       "       PassengerId      Pclass         Age       SibSp       Parch        Fare\n",
       "count   418.000000  418.000000  332.000000  418.000000  418.000000  417.000000\n",
       "mean   1100.500000    2.265550   30.272590    0.447368    0.392344   35.627188\n",
       "std     120.810458    0.841838   14.181209    0.896760    0.981429   55.907576\n",
       "min     892.000000    1.000000    0.170000    0.000000    0.000000    0.000000\n",
       "25%     996.250000    1.000000   21.000000    0.000000    0.000000    7.895800\n",
       "50%    1100.500000    3.000000   27.000000    0.000000    0.000000   14.454200\n",
       "75%    1204.750000    3.000000   39.000000    1.000000    0.000000   31.500000\n",
       "max    1309.000000    3.000000   76.000000    8.000000    9.000000  512.329200"
      ]
     },
     "execution_count": 9,
     "metadata": {},
     "output_type": "execute_result"
    }
   ],
   "source": [
    "test.describe()"
   ]
  },
  {
   "cell_type": "markdown",
   "id": "7a12b2b2",
   "metadata": {
    "papermill": {
     "duration": 0.012539,
     "end_time": "2024-06-05T03:11:20.273942",
     "exception": false,
     "start_time": "2024-06-05T03:11:20.261403",
     "status": "completed"
    },
    "tags": []
   },
   "source": [
    "# Data Visualization"
   ]
  },
  {
   "cell_type": "code",
   "execution_count": 10,
   "id": "160b4b4c",
   "metadata": {
    "execution": {
     "iopub.execute_input": "2024-06-05T03:11:20.301837Z",
     "iopub.status.busy": "2024-06-05T03:11:20.300808Z",
     "iopub.status.idle": "2024-06-05T03:11:21.570335Z",
     "shell.execute_reply": "2024-06-05T03:11:21.568836Z"
    },
    "papermill": {
     "duration": 1.286132,
     "end_time": "2024-06-05T03:11:21.572988",
     "exception": false,
     "start_time": "2024-06-05T03:11:20.286856",
     "status": "completed"
    },
    "tags": []
   },
   "outputs": [],
   "source": [
    "import seaborn as sns\n",
    "import matplotlib.pyplot as plt\n",
    "sns.set()"
   ]
  },
  {
   "cell_type": "code",
   "execution_count": 11,
   "id": "0048f7f0",
   "metadata": {
    "execution": {
     "iopub.execute_input": "2024-06-05T03:11:21.600195Z",
     "iopub.status.busy": "2024-06-05T03:11:21.599816Z",
     "iopub.status.idle": "2024-06-05T03:11:21.606612Z",
     "shell.execute_reply": "2024-06-05T03:11:21.605478Z"
    },
    "papermill": {
     "duration": 0.023437,
     "end_time": "2024-06-05T03:11:21.608967",
     "exception": false,
     "start_time": "2024-06-05T03:11:21.585530",
     "status": "completed"
    },
    "tags": []
   },
   "outputs": [],
   "source": [
    "def bar_chart(feature):\n",
    "    # Create a DataFrame with counts for each combination of Survived and feature\n",
    "    df = train.groupby(['Survived', feature]).size().reset_index(name='Count')\n",
    "    \n",
    "    # Create the bar plot\n",
    "    plt.figure(figsize=(10, 5))\n",
    "    sns.barplot(x=feature, y='Count', hue='Survived', data=df, ci=None)\n",
    "    \n",
    "    # Set chart title and labels\n",
    "    plt.title(f'Survival Counts by {feature}')\n",
    "    plt.xlabel(feature)\n",
    "    plt.ylabel('Count')\n",
    "    \n",
    "    # Show the plot\n",
    "    plt.show()"
   ]
  },
  {
   "cell_type": "code",
   "execution_count": 12,
   "id": "e6aaded5",
   "metadata": {
    "execution": {
     "iopub.execute_input": "2024-06-05T03:11:21.636562Z",
     "iopub.status.busy": "2024-06-05T03:11:21.636144Z",
     "iopub.status.idle": "2024-06-05T03:11:21.642176Z",
     "shell.execute_reply": "2024-06-05T03:11:21.641042Z"
    },
    "papermill": {
     "duration": 0.022977,
     "end_time": "2024-06-05T03:11:21.644412",
     "exception": false,
     "start_time": "2024-06-05T03:11:21.621435",
     "status": "completed"
    },
    "tags": []
   },
   "outputs": [],
   "source": [
    "def print_counts(feature):\n",
    "    survived_counts = train[train['Survived'] == 1][feature].value_counts()\n",
    "    dead_counts = train[train['Survived'] == 0][feature].value_counts()\n",
    "    print(\"Survived:\\n\", survived_counts, \"\\n\")\n",
    "    print(\"Dead:\\n\", dead_counts, \"\\n\")"
   ]
  },
  {
   "cell_type": "code",
   "execution_count": 13,
   "id": "e70e46e5",
   "metadata": {
    "execution": {
     "iopub.execute_input": "2024-06-05T03:11:21.670664Z",
     "iopub.status.busy": "2024-06-05T03:11:21.670320Z",
     "iopub.status.idle": "2024-06-05T03:11:22.055112Z",
     "shell.execute_reply": "2024-06-05T03:11:22.053964Z"
    },
    "papermill": {
     "duration": 0.400726,
     "end_time": "2024-06-05T03:11:22.057477",
     "exception": false,
     "start_time": "2024-06-05T03:11:21.656751",
     "status": "completed"
    },
    "tags": []
   },
   "outputs": [
    {
     "data": {
      "image/png": "[encoded data removed]",
      "text/plain": [
       "<Figure size 1000x500 with 1 Axes>"
      ]
     },
     "metadata": {},
     "output_type": "display_data"
    },
    {
     "name": "stdout",
     "output_type": "stream",
     "text": [
      "Survived:\n",
      " Sex\n",
      "female    233\n",
      "male      109\n",
      "Name: count, dtype: int64 \n",
      "\n",
      "Dead:\n",
      " Sex\n",
      "male      468\n",
      "female     81\n",
      "Name: count, dtype: int64 \n",
      "\n"
     ]
    }
   ],
   "source": [
    "# Generate the bar chart\n",
    "bar_chart('Sex')\n",
    "\n",
    "# Print the counts\n",
    "print_counts('Sex')"
   ]
  },
  {
   "cell_type": "code",
   "execution_count": 14,
   "id": "26310de8",
   "metadata": {
    "execution": {
     "iopub.execute_input": "2024-06-05T03:11:22.084960Z",
     "iopub.status.busy": "2024-06-05T03:11:22.084569Z",
     "iopub.status.idle": "2024-06-05T03:11:22.345887Z",
     "shell.execute_reply": "2024-06-05T03:11:22.344502Z"
    },
    "papermill": {
     "duration": 0.27789,
     "end_time": "2024-06-05T03:11:22.348198",
     "exception": false,
     "start_time": "2024-06-05T03:11:22.070308",
     "status": "completed"
    },
    "tags": []
   },
   "outputs": [
    {
     "data": {
      "image/png": "[encoded data removed]",
      "text/plain": [
       "<Figure size 1000x500 with 1 Axes>"
      ]
     },
     "metadata": {},
     "output_type": "display_data"
    },
    {
     "name": "stdout",
     "output_type": "stream",
     "text": [
      "Survived:\n",
      " Pclass\n",
      "1    136\n",
      "3    119\n",
      "2     87\n",
      "Name: count, dtype: int64 \n",
      "\n",
      "Dead:\n",
      " Pclass\n",
      "3    372\n",
      "2     97\n",
      "1     80\n",
      "Name: count, dtype: int64 \n",
      "\n"
     ]
    }
   ],
   "source": [
    "# Generate the bar chart\n",
    "bar_chart('Pclass')\n",
    "\n",
    "# Print the counts\n",
    "print_counts('Pclass')"
   ]
  },
  {
   "cell_type": "code",
   "execution_count": 15,
   "id": "f7b2f37d",
   "metadata": {
    "execution": {
     "iopub.execute_input": "2024-06-05T03:11:22.376925Z",
     "iopub.status.busy": "2024-06-05T03:11:22.376523Z",
     "iopub.status.idle": "2024-06-05T03:11:22.719500Z",
     "shell.execute_reply": "2024-06-05T03:11:22.718476Z"
    },
    "papermill": {
     "duration": 0.359958,
     "end_time": "2024-06-05T03:11:22.721651",
     "exception": false,
     "start_time": "2024-06-05T03:11:22.361693",
     "status": "completed"
    },
    "tags": []
   },
   "outputs": [
    {
     "data": {
      "image/png": "[encoded data removed]",
      "text/plain": [
       "<Figure size 1000x500 with 1 Axes>"
      ]
     },
     "metadata": {},
     "output_type": "display_data"
    },
    {
     "name": "stdout",
     "output_type": "stream",
     "text": [
      "Survived:\n",
      " SibSp\n",
      "0    210\n",
      "1    112\n",
      "2     13\n",
      "3      4\n",
      "4      3\n",
      "Name: count, dtype: int64 \n",
      "\n",
      "Dead:\n",
      " SibSp\n",
      "0    398\n",
      "1     97\n",
      "4     15\n",
      "2     15\n",
      "3     12\n",
      "8      7\n",
      "5      5\n",
      "Name: count, dtype: int64 \n",
      "\n"
     ]
    }
   ],
   "source": [
    "# Generate the bar chart\n",
    "bar_chart('SibSp')\n",
    "\n",
    "# Print the counts\n",
    "print_counts('SibSp')"
   ]
  },
  {
   "cell_type": "code",
   "execution_count": 16,
   "id": "a40f170b",
   "metadata": {
    "execution": {
     "iopub.execute_input": "2024-06-05T03:11:22.751431Z",
     "iopub.status.busy": "2024-06-05T03:11:22.750288Z",
     "iopub.status.idle": "2024-06-05T03:11:23.055577Z",
     "shell.execute_reply": "2024-06-05T03:11:23.054535Z"
    },
    "papermill": {
     "duration": 0.322662,
     "end_time": "2024-06-05T03:11:23.058042",
     "exception": false,
     "start_time": "2024-06-05T03:11:22.735380",
     "status": "completed"
    },
    "tags": []
   },
   "outputs": [
    {
     "data": {
      "image/png": "[encoded data removed]",
      "text/plain": [
       "<Figure size 1000x500 with 1 Axes>"
      ]
     },
     "metadata": {},
     "output_type": "display_data"
    },
    {
     "name": "stdout",
     "output_type": "stream",
     "text": [
      "Survived:\n",
      " Parch\n",
      "0    233\n",
      "1     65\n",
      "2     40\n",
      "3      3\n",
      "5      1\n",
      "Name: count, dtype: int64 \n",
      "\n",
      "Dead:\n",
      " Parch\n",
      "0    445\n",
      "1     53\n",
      "2     40\n",
      "5      4\n",
      "4      4\n",
      "3      2\n",
      "6      1\n",
      "Name: count, dtype: int64 \n",
      "\n"
     ]
    }
   ],
   "source": [
    "# Generate the bar chart\n",
    "bar_chart('Parch')\n",
    "\n",
    "# Print the counts\n",
    "print_counts('Parch')"
   ]
  },
  {
   "cell_type": "code",
   "execution_count": 17,
   "id": "75ad36f4",
   "metadata": {
    "execution": {
     "iopub.execute_input": "2024-06-05T03:11:23.088834Z",
     "iopub.status.busy": "2024-06-05T03:11:23.088029Z",
     "iopub.status.idle": "2024-06-05T03:11:23.352936Z",
     "shell.execute_reply": "2024-06-05T03:11:23.351623Z"
    },
    "papermill": {
     "duration": 0.282794,
     "end_time": "2024-06-05T03:11:23.355166",
     "exception": false,
     "start_time": "2024-06-05T03:11:23.072372",
     "status": "completed"
    },
    "tags": []
   },
   "outputs": [
    {
     "data": {
      "image/png": "[encoded data removed]",
      "text/plain": [
       "<Figure size 1000x500 with 1 Axes>"
      ]
     },
     "metadata": {},
     "output_type": "display_data"
    },
    {
     "name": "stdout",
     "output_type": "stream",
     "text": [
      "Survived:\n",
      " Embarked\n",
      "S    217\n",
      "C     93\n",
      "Q     30\n",
      "Name: count, dtype: int64 \n",
      "\n",
      "Dead:\n",
      " Embarked\n",
      "S    427\n",
      "C     75\n",
      "Q     47\n",
      "Name: count, dtype: int64 \n",
      "\n"
     ]
    }
   ],
   "source": [
    "# Generate the bar chart\n",
    "bar_chart('Embarked')\n",
    "\n",
    "# Print the counts\n",
    "print_counts('Embarked')"
   ]
  },
  {
   "cell_type": "markdown",
   "id": "cf9e13f3",
   "metadata": {
    "papermill": {
     "duration": 0.014544,
     "end_time": "2024-06-05T03:11:23.384568",
     "exception": false,
     "start_time": "2024-06-05T03:11:23.370024",
     "status": "completed"
    },
    "tags": []
   },
   "source": [
    "# Feature Engineering"
   ]
  },
  {
   "cell_type": "code",
   "execution_count": 18,
   "id": "fd1a6832",
   "metadata": {
    "execution": {
     "iopub.execute_input": "2024-06-05T03:11:23.415728Z",
     "iopub.status.busy": "2024-06-05T03:11:23.415352Z",
     "iopub.status.idle": "2024-06-05T03:11:23.425824Z",
     "shell.execute_reply": "2024-06-05T03:11:23.424794Z"
    },
    "papermill": {
     "duration": 0.028683,
     "end_time": "2024-06-05T03:11:23.428038",
     "exception": false,
     "start_time": "2024-06-05T03:11:23.399355",
     "status": "completed"
    },
    "tags": []
   },
   "outputs": [],
   "source": [
    "# Convert 'Embarked' column to numerical values\n",
    "train.loc[train[\"Embarked\"] == \"S\", \"Embarked\"] = 0\n",
    "train.loc[train[\"Embarked\"] == \"C\", \"Embarked\"] = 1\n",
    "train.loc[train[\"Embarked\"] == \"Q\", \"Embarked\"] = 2\n",
    "\n",
    "# Impute missing 'Embarked' values with mode\n",
    "embarked_mode = train[\"Embarked\"].mode()[0]\n",
    "train[\"Embarked\"] = train[\"Embarked\"].fillna(embarked_mode)"
   ]
  },
  {
   "cell_type": "code",
   "execution_count": 19,
   "id": "af53d6ce",
   "metadata": {
    "execution": {
     "iopub.execute_input": "2024-06-05T03:11:23.459677Z",
     "iopub.status.busy": "2024-06-05T03:11:23.458731Z",
     "iopub.status.idle": "2024-06-05T03:11:23.467706Z",
     "shell.execute_reply": "2024-06-05T03:11:23.466583Z"
    },
    "papermill": {
     "duration": 0.027178,
     "end_time": "2024-06-05T03:11:23.469917",
     "exception": false,
     "start_time": "2024-06-05T03:11:23.442739",
     "status": "completed"
    },
    "tags": []
   },
   "outputs": [],
   "source": [
    "# Convert 'Sex' column to numerical values\n",
    "train.loc[train[\"Sex\"] == \"male\", \"Sex\"] = 0\n",
    "train.loc[train[\"Sex\"] == \"female\", \"Sex\"] = 1\n",
    "\n",
    "# Impute missing 'Sex' values with mode (although there are no missing values in 'Sex')\n",
    "sex_mode = train[\"Sex\"].mode()[0]\n",
    "train[\"Sex\"] = train[\"Sex\"].fillna(sex_mode)"
   ]
  },
  {
   "cell_type": "code",
   "execution_count": 20,
   "id": "2ecd3b67",
   "metadata": {
    "execution": {
     "iopub.execute_input": "2024-06-05T03:11:23.501953Z",
     "iopub.status.busy": "2024-06-05T03:11:23.501039Z",
     "iopub.status.idle": "2024-06-05T03:11:24.142352Z",
     "shell.execute_reply": "2024-06-05T03:11:24.141221Z"
    },
    "papermill": {
     "duration": 0.659918,
     "end_time": "2024-06-05T03:11:24.144667",
     "exception": false,
     "start_time": "2024-06-05T03:11:23.484749",
     "status": "completed"
    },
    "tags": []
   },
   "outputs": [
    {
     "data": {
      "image/png": "[encoded data removed]",
      "text/plain": [
       "<Figure size 1285.22x300 with 1 Axes>"
      ]
     },
     "metadata": {},
     "output_type": "display_data"
    }
   ],
   "source": [
    "facet = sns.FacetGrid(train, hue=\"Survived\",aspect=4)\n",
    "facet.map(sns.kdeplot,'Sex',shade= True)\n",
    "facet.set(xlim=(0, train['Sex'].max()))\n",
    "facet.add_legend() \n",
    "plt.show()"
   ]
  },
  {
   "cell_type": "code",
   "execution_count": 21,
   "id": "8dd02ca4",
   "metadata": {
    "execution": {
     "iopub.execute_input": "2024-06-05T03:11:24.232949Z",
     "iopub.status.busy": "2024-06-05T03:11:24.232555Z",
     "iopub.status.idle": "2024-06-05T03:11:24.239784Z",
     "shell.execute_reply": "2024-06-05T03:11:24.238690Z"
    },
    "papermill": {
     "duration": 0.082265,
     "end_time": "2024-06-05T03:11:24.242133",
     "exception": false,
     "start_time": "2024-06-05T03:11:24.159868",
     "status": "completed"
    },
    "tags": []
   },
   "outputs": [],
   "source": [
    "# Impute missing 'Age' values with median\n",
    "age_median = train[\"Age\"].median()\n",
    "train[\"Age\"] = train[\"Age\"].fillna(age_median)"
   ]
  },
  {
   "cell_type": "code",
   "execution_count": 22,
   "id": "58a5bf75",
   "metadata": {
    "execution": {
     "iopub.execute_input": "2024-06-05T03:11:24.275222Z",
     "iopub.status.busy": "2024-06-05T03:11:24.274838Z",
     "iopub.status.idle": "2024-06-05T03:11:24.992247Z",
     "shell.execute_reply": "2024-06-05T03:11:24.991248Z"
    },
    "papermill": {
     "duration": 0.737005,
     "end_time": "2024-06-05T03:11:24.994705",
     "exception": false,
     "start_time": "2024-06-05T03:11:24.257700",
     "status": "completed"
    },
    "tags": []
   },
   "outputs": [
    {
     "data": {
      "image/png": "[encoded data removed]",
      "text/plain": [
       "<Figure size 1285.22x300 with 1 Axes>"
      ]
     },
     "metadata": {},
     "output_type": "display_data"
    }
   ],
   "source": [
    "facet = sns.FacetGrid(train, hue=\"Survived\",aspect=4)\n",
    "facet.map(sns.kdeplot,'Age',shade= True)\n",
    "facet.set(xlim=(0, train['Age'].max()))\n",
    "facet.add_legend() \n",
    "plt.show()"
   ]
  },
  {
   "cell_type": "code",
   "execution_count": 23,
   "id": "4fc844df",
   "metadata": {
    "execution": {
     "iopub.execute_input": "2024-06-05T03:11:25.030857Z",
     "iopub.status.busy": "2024-06-05T03:11:25.030463Z",
     "iopub.status.idle": "2024-06-05T03:11:25.037350Z",
     "shell.execute_reply": "2024-06-05T03:11:25.036344Z"
    },
    "papermill": {
     "duration": 0.027226,
     "end_time": "2024-06-05T03:11:25.039543",
     "exception": false,
     "start_time": "2024-06-05T03:11:25.012317",
     "status": "completed"
    },
    "tags": []
   },
   "outputs": [],
   "source": [
    "# Impute missing 'Pclass' values with mode (although there are no missing values in 'Pclass')\n",
    "pclass_mode = train[\"Pclass\"].mode()[0]\n",
    "train[\"Pclass\"] = train[\"Pclass\"].fillna(pclass_mode)"
   ]
  },
  {
   "cell_type": "code",
   "execution_count": 24,
   "id": "bedc1704",
   "metadata": {
    "execution": {
     "iopub.execute_input": "2024-06-05T03:11:25.074131Z",
     "iopub.status.busy": "2024-06-05T03:11:25.073744Z",
     "iopub.status.idle": "2024-06-05T03:11:25.816093Z",
     "shell.execute_reply": "2024-06-05T03:11:25.815006Z"
    },
    "papermill": {
     "duration": 0.762752,
     "end_time": "2024-06-05T03:11:25.818719",
     "exception": false,
     "start_time": "2024-06-05T03:11:25.055967",
     "status": "completed"
    },
    "tags": []
   },
   "outputs": [
    {
     "data": {
      "image/png": "[encoded data removed]",
      "text/plain": [
       "<Figure size 1285.22x300 with 1 Axes>"
      ]
     },
     "metadata": {},
     "output_type": "display_data"
    }
   ],
   "source": [
    "facet = sns.FacetGrid(train, hue=\"Survived\",aspect=4)\n",
    "facet.map(sns.kdeplot,'Pclass',shade= True)\n",
    "facet.set(xlim=(0, train['Pclass'].max()))\n",
    "facet.add_legend() \n",
    "plt.show()"
   ]
  },
  {
   "cell_type": "code",
   "execution_count": 25,
   "id": "beaa1054",
   "metadata": {
    "execution": {
     "iopub.execute_input": "2024-06-05T03:11:25.854506Z",
     "iopub.status.busy": "2024-06-05T03:11:25.854115Z",
     "iopub.status.idle": "2024-06-05T03:11:25.861643Z",
     "shell.execute_reply": "2024-06-05T03:11:25.860285Z"
    },
    "papermill": {
     "duration": 0.028774,
     "end_time": "2024-06-05T03:11:25.864410",
     "exception": false,
     "start_time": "2024-06-05T03:11:25.835636",
     "status": "completed"
    },
    "tags": []
   },
   "outputs": [],
   "source": [
    "# Impute missing 'Fare' values with median\n",
    "fare_median = train[\"Fare\"].median()\n",
    "train[\"Fare\"] = train[\"Fare\"].fillna(fare_median)"
   ]
  },
  {
   "cell_type": "code",
   "execution_count": 26,
   "id": "935742f3",
   "metadata": {
    "execution": {
     "iopub.execute_input": "2024-06-05T03:11:25.906711Z",
     "iopub.status.busy": "2024-06-05T03:11:25.905777Z",
     "iopub.status.idle": "2024-06-05T03:11:26.596949Z",
     "shell.execute_reply": "2024-06-05T03:11:26.595582Z"
    },
    "papermill": {
     "duration": 0.714423,
     "end_time": "2024-06-05T03:11:26.599323",
     "exception": false,
     "start_time": "2024-06-05T03:11:25.884900",
     "status": "completed"
    },
    "tags": []
   },
   "outputs": [
    {
     "data": {
      "image/png": "[encoded data removed]",
      "text/plain": [
       "<Figure size 1285.22x300 with 1 Axes>"
      ]
     },
     "metadata": {},
     "output_type": "display_data"
    }
   ],
   "source": [
    "facet = sns.FacetGrid(train, hue=\"Survived\",aspect=4)\n",
    "facet.map(sns.kdeplot,'Fare',shade= True)\n",
    "facet.set(xlim=(0, train['Fare'].max()))\n",
    "facet.add_legend() \n",
    "plt.show()"
   ]
  },
  {
   "cell_type": "code",
   "execution_count": 27,
   "id": "2dee1c41",
   "metadata": {
    "execution": {
     "iopub.execute_input": "2024-06-05T03:11:26.635779Z",
     "iopub.status.busy": "2024-06-05T03:11:26.635422Z",
     "iopub.status.idle": "2024-06-05T03:11:26.642272Z",
     "shell.execute_reply": "2024-06-05T03:11:26.641157Z"
    },
    "papermill": {
     "duration": 0.027657,
     "end_time": "2024-06-05T03:11:26.644373",
     "exception": false,
     "start_time": "2024-06-05T03:11:26.616716",
     "status": "completed"
    },
    "tags": []
   },
   "outputs": [],
   "source": [
    "# Impute missing 'SibSp' values with mode (although there are no missing values in 'SibSp')\n",
    "sibsp_mode = train[\"SibSp\"].mode()[0]\n",
    "train[\"SibSp\"] = train[\"SibSp\"].fillna(sibsp_mode)"
   ]
  },
  {
   "cell_type": "code",
   "execution_count": 28,
   "id": "debb75b4",
   "metadata": {
    "execution": {
     "iopub.execute_input": "2024-06-05T03:11:26.681054Z",
     "iopub.status.busy": "2024-06-05T03:11:26.680678Z",
     "iopub.status.idle": "2024-06-05T03:11:27.309671Z",
     "shell.execute_reply": "2024-06-05T03:11:27.308517Z"
    },
    "papermill": {
     "duration": 0.650275,
     "end_time": "2024-06-05T03:11:27.311883",
     "exception": false,
     "start_time": "2024-06-05T03:11:26.661608",
     "status": "completed"
    },
    "tags": []
   },
   "outputs": [
    {
     "data": {
      "image/png": "[encoded data removed]",
      "text/plain": [
       "<Figure size 1285.22x300 with 1 Axes>"
      ]
     },
     "metadata": {},
     "output_type": "display_data"
    }
   ],
   "source": [
    "facet = sns.FacetGrid(train, hue=\"Survived\",aspect=4)\n",
    "facet.map(sns.kdeplot,'SibSp',shade= True)\n",
    "facet.set(xlim=(0, train['SibSp'].max()))\n",
    "facet.add_legend() \n",
    "plt.show()"
   ]
  },
  {
   "cell_type": "code",
   "execution_count": 29,
   "id": "0fc86c14",
   "metadata": {
    "execution": {
     "iopub.execute_input": "2024-06-05T03:11:27.350457Z",
     "iopub.status.busy": "2024-06-05T03:11:27.349524Z",
     "iopub.status.idle": "2024-06-05T03:11:27.355654Z",
     "shell.execute_reply": "2024-06-05T03:11:27.354563Z"
    },
    "papermill": {
     "duration": 0.027613,
     "end_time": "2024-06-05T03:11:27.357893",
     "exception": false,
     "start_time": "2024-06-05T03:11:27.330280",
     "status": "completed"
    },
    "tags": []
   },
   "outputs": [],
   "source": [
    "# Impute missing 'Parch' values with mode (although there are no missing values in 'Parch')\n",
    "parch_mode = train[\"Parch\"].mode()[0]\n",
    "train[\"Parch\"] = train[\"Parch\"].fillna(parch_mode)"
   ]
  },
  {
   "cell_type": "code",
   "execution_count": 30,
   "id": "72f01bdd",
   "metadata": {
    "execution": {
     "iopub.execute_input": "2024-06-05T03:11:27.395908Z",
     "iopub.status.busy": "2024-06-05T03:11:27.395015Z",
     "iopub.status.idle": "2024-06-05T03:11:28.090673Z",
     "shell.execute_reply": "2024-06-05T03:11:28.089254Z"
    },
    "papermill": {
     "duration": 0.717377,
     "end_time": "2024-06-05T03:11:28.093370",
     "exception": false,
     "start_time": "2024-06-05T03:11:27.375993",
     "status": "completed"
    },
    "tags": []
   },
   "outputs": [
    {
     "data": {
      "image/png": "[encoded data removed]",
      "text/plain": [
       "<Figure size 1285.22x300 with 1 Axes>"
      ]
     },
     "metadata": {},
     "output_type": "display_data"
    }
   ],
   "source": [
    "facet = sns.FacetGrid(train, hue=\"Survived\",aspect=4)\n",
    "facet.map(sns.kdeplot,'Parch',shade= True)\n",
    "facet.set(xlim=(0, train['Parch'].max()))\n",
    "facet.add_legend() \n",
    "plt.show()"
   ]
  },
  {
   "cell_type": "code",
   "execution_count": 31,
   "id": "a5f8846c",
   "metadata": {
    "execution": {
     "iopub.execute_input": "2024-06-05T03:11:28.132149Z",
     "iopub.status.busy": "2024-06-05T03:11:28.131768Z",
     "iopub.status.idle": "2024-06-05T03:11:28.139458Z",
     "shell.execute_reply": "2024-06-05T03:11:28.138267Z"
    },
    "papermill": {
     "duration": 0.029589,
     "end_time": "2024-06-05T03:11:28.141493",
     "exception": false,
     "start_time": "2024-06-05T03:11:28.111904",
     "status": "completed"
    },
    "tags": []
   },
   "outputs": [],
   "source": [
    "# Create 'Relatives' column\n",
    "train[\"Relatives\"] = train[\"SibSp\"] + train[\"Parch\"]\n",
    "\n",
    "# Impute missing 'Relatives' values with mode\n",
    "relatives_mode = train[\"Relatives\"].mode()[0]\n",
    "train[\"Relatives\"] = train[\"Relatives\"].fillna(relatives_mode)"
   ]
  },
  {
   "cell_type": "code",
   "execution_count": 32,
   "id": "0212827d",
   "metadata": {
    "execution": {
     "iopub.execute_input": "2024-06-05T03:11:28.180219Z",
     "iopub.status.busy": "2024-06-05T03:11:28.179370Z",
     "iopub.status.idle": "2024-06-05T03:11:28.187722Z",
     "shell.execute_reply": "2024-06-05T03:11:28.186675Z"
    },
    "papermill": {
     "duration": 0.03011,
     "end_time": "2024-06-05T03:11:28.189852",
     "exception": false,
     "start_time": "2024-06-05T03:11:28.159742",
     "status": "completed"
    },
    "tags": []
   },
   "outputs": [],
   "source": [
    "# Convert 'Age' into discrete variables\n",
    "train.loc[train[\"Age\"] < 16, \"Age\"] = 0\n",
    "train.loc[(train[\"Age\"] >= 16) & (train[\"Age\"] < 60), \"Age\"] = 1\n",
    "train.loc[train[\"Age\"] >= 60, \"Age\"] = 2"
   ]
  },
  {
   "cell_type": "code",
   "execution_count": 33,
   "id": "b3114dce",
   "metadata": {
    "execution": {
     "iopub.execute_input": "2024-06-05T03:11:28.228408Z",
     "iopub.status.busy": "2024-06-05T03:11:28.228026Z",
     "iopub.status.idle": "2024-06-05T03:11:28.233974Z",
     "shell.execute_reply": "2024-06-05T03:11:28.232878Z"
    },
    "papermill": {
     "duration": 0.027697,
     "end_time": "2024-06-05T03:11:28.236108",
     "exception": false,
     "start_time": "2024-06-05T03:11:28.208411",
     "status": "completed"
    },
    "tags": []
   },
   "outputs": [],
   "source": [
    "# Transform 'Fare' column using log transformation\n",
    "train[\"Fare\"] = np.log10(train[\"Fare\"] + 1).astype(int)"
   ]
  },
  {
   "cell_type": "code",
   "execution_count": 34,
   "id": "f6424616",
   "metadata": {
    "execution": {
     "iopub.execute_input": "2024-06-05T03:11:28.274752Z",
     "iopub.status.busy": "2024-06-05T03:11:28.274337Z",
     "iopub.status.idle": "2024-06-05T03:11:28.280789Z",
     "shell.execute_reply": "2024-06-05T03:11:28.279736Z"
    },
    "papermill": {
     "duration": 0.028339,
     "end_time": "2024-06-05T03:11:28.282919",
     "exception": false,
     "start_time": "2024-06-05T03:11:28.254580",
     "status": "completed"
    },
    "tags": []
   },
   "outputs": [],
   "source": [
    "# Dropping columns with lots of missing values and those with lack of correlation with survival\n",
    "feature_table = train[[\"Pclass\",\"Sex\",\"Age\",\"Fare\",\"SibSp\",\"Parch\"]]"
   ]
  },
  {
   "cell_type": "code",
   "execution_count": 35,
   "id": "5d9630a9",
   "metadata": {
    "execution": {
     "iopub.execute_input": "2024-06-05T03:11:28.322189Z",
     "iopub.status.busy": "2024-06-05T03:11:28.321799Z",
     "iopub.status.idle": "2024-06-05T03:11:28.334307Z",
     "shell.execute_reply": "2024-06-05T03:11:28.333280Z"
    },
    "papermill": {
     "duration": 0.034513,
     "end_time": "2024-06-05T03:11:28.336503",
     "exception": false,
     "start_time": "2024-06-05T03:11:28.301990",
     "status": "completed"
    },
    "tags": []
   },
   "outputs": [
    {
     "name": "stdout",
     "output_type": "stream",
     "text": [
      "<class 'pandas.core.frame.DataFrame'>\n",
      "RangeIndex: 891 entries, 0 to 890\n",
      "Data columns (total 6 columns):\n",
      " #   Column  Non-Null Count  Dtype  \n",
      "---  ------  --------------  -----  \n",
      " 0   Pclass  891 non-null    int64  \n",
      " 1   Sex     891 non-null    int64  \n",
      " 2   Age     891 non-null    float64\n",
      " 3   Fare    891 non-null    int64  \n",
      " 4   SibSp   891 non-null    int64  \n",
      " 5   Parch   891 non-null    int64  \n",
      "dtypes: float64(1), int64(5)\n",
      "memory usage: 41.9 KB\n",
      "None\n"
     ]
    }
   ],
   "source": [
    "# Checking the final DataFrame structure\n",
    "print(feature_table.info())"
   ]
  },
  {
   "cell_type": "code",
   "execution_count": 36,
   "id": "5b2861d6",
   "metadata": {
    "execution": {
     "iopub.execute_input": "2024-06-05T03:11:28.375153Z",
     "iopub.status.busy": "2024-06-05T03:11:28.374789Z",
     "iopub.status.idle": "2024-06-05T03:11:28.386722Z",
     "shell.execute_reply": "2024-06-05T03:11:28.385664Z"
    },
    "papermill": {
     "duration": 0.033945,
     "end_time": "2024-06-05T03:11:28.388905",
     "exception": false,
     "start_time": "2024-06-05T03:11:28.354960",
     "status": "completed"
    },
    "tags": []
   },
   "outputs": [
    {
     "data": {
      "text/html": [
       "<div>\n",
       "<style scoped>\n",
       "    .dataframe tbody tr th:only-of-type {\n",
       "        vertical-align: middle;\n",
       "    }\n",
       "\n",
       "    .dataframe tbody tr th {\n",
       "        vertical-align: top;\n",
       "    }\n",
       "\n",
       "    .dataframe thead th {\n",
       "        text-align: right;\n",
       "    }\n",
       "</style>\n",
       "<table border=\"1\" class=\"dataframe\">\n",
       "  <thead>\n",
       "    <tr style=\"text-align: right;\">\n",
       "      <th></th>\n",
       "      <th>Pclass</th>\n",
       "      <th>Sex</th>\n",
       "      <th>Age</th>\n",
       "      <th>Fare</th>\n",
       "      <th>SibSp</th>\n",
       "      <th>Parch</th>\n",
       "    </tr>\n",
       "  </thead>\n",
       "  <tbody>\n",
       "    <tr>\n",
       "      <th>0</th>\n",
       "      <td>3</td>\n",
       "      <td>0</td>\n",
       "      <td>1.0</td>\n",
       "      <td>0</td>\n",
       "      <td>1</td>\n",
       "      <td>0</td>\n",
       "    </tr>\n",
       "    <tr>\n",
       "      <th>1</th>\n",
       "      <td>1</td>\n",
       "      <td>1</td>\n",
       "      <td>1.0</td>\n",
       "      <td>1</td>\n",
       "      <td>1</td>\n",
       "      <td>0</td>\n",
       "    </tr>\n",
       "    <tr>\n",
       "      <th>2</th>\n",
       "      <td>3</td>\n",
       "      <td>1</td>\n",
       "      <td>1.0</td>\n",
       "      <td>0</td>\n",
       "      <td>0</td>\n",
       "      <td>0</td>\n",
       "    </tr>\n",
       "    <tr>\n",
       "      <th>3</th>\n",
       "      <td>1</td>\n",
       "      <td>1</td>\n",
       "      <td>1.0</td>\n",
       "      <td>1</td>\n",
       "      <td>1</td>\n",
       "      <td>0</td>\n",
       "    </tr>\n",
       "    <tr>\n",
       "      <th>4</th>\n",
       "      <td>3</td>\n",
       "      <td>0</td>\n",
       "      <td>1.0</td>\n",
       "      <td>0</td>\n",
       "      <td>0</td>\n",
       "      <td>0</td>\n",
       "    </tr>\n",
       "  </tbody>\n",
       "</table>\n",
       "</div>"
      ],
      "text/plain": [
       "   Pclass  Sex  Age  Fare  SibSp  Parch\n",
       "0       3    0  1.0     0      1      0\n",
       "1       1    1  1.0     1      1      0\n",
       "2       3    1  1.0     0      0      0\n",
       "3       1    1  1.0     1      1      0\n",
       "4       3    0  1.0     0      0      0"
      ]
     },
     "execution_count": 36,
     "metadata": {},
     "output_type": "execute_result"
    }
   ],
   "source": [
    "feature_table.head()"
   ]
  },
  {
   "cell_type": "markdown",
   "id": "1154d223",
   "metadata": {
    "papermill": {
     "duration": 0.018402,
     "end_time": "2024-06-05T03:11:28.426355",
     "exception": false,
     "start_time": "2024-06-05T03:11:28.407953",
     "status": "completed"
    },
    "tags": []
   },
   "source": [
    "# Machine Learning Models"
   ]
  },
  {
   "cell_type": "code",
   "execution_count": 37,
   "id": "91a1e736",
   "metadata": {
    "execution": {
     "iopub.execute_input": "2024-06-05T03:11:28.465968Z",
     "iopub.status.busy": "2024-06-05T03:11:28.465558Z",
     "iopub.status.idle": "2024-06-05T03:11:28.631406Z",
     "shell.execute_reply": "2024-06-05T03:11:28.630267Z"
    },
    "papermill": {
     "duration": 0.188692,
     "end_time": "2024-06-05T03:11:28.633998",
     "exception": false,
     "start_time": "2024-06-05T03:11:28.445306",
     "status": "completed"
    },
    "tags": []
   },
   "outputs": [],
   "source": [
    "from sklearn.preprocessing import StandardScaler\n",
    "\n",
    "# Standardizing the features\n",
    "scaler = StandardScaler().fit(feature_table)\n",
    "feature_table = scaler.transform(feature_table)\n",
    "\n",
    "# Extracting the target values\n",
    "target_values = train[\"Survived\"].values"
   ]
  },
  {
   "cell_type": "markdown",
   "id": "56b4aedd",
   "metadata": {
    "papermill": {
     "duration": 0.018668,
     "end_time": "2024-06-05T03:11:28.671378",
     "exception": false,
     "start_time": "2024-06-05T03:11:28.652710",
     "status": "completed"
    },
    "tags": []
   },
   "source": [
    "## SVM Classifier"
   ]
  },
  {
   "cell_type": "code",
   "execution_count": 38,
   "id": "e416c7b7",
   "metadata": {
    "execution": {
     "iopub.execute_input": "2024-06-05T03:11:28.710925Z",
     "iopub.status.busy": "2024-06-05T03:11:28.710547Z",
     "iopub.status.idle": "2024-06-05T03:11:29.127400Z",
     "shell.execute_reply": "2024-06-05T03:11:29.126123Z"
    },
    "papermill": {
     "duration": 0.439156,
     "end_time": "2024-06-05T03:11:29.129775",
     "exception": false,
     "start_time": "2024-06-05T03:11:28.690619",
     "status": "completed"
    },
    "tags": []
   },
   "outputs": [
    {
     "name": "stdout",
     "output_type": "stream",
     "text": [
      "svm: 0.820400 (0.019669)\n",
      "SVM Training Score: 82.82828282828282\n"
     ]
    }
   ],
   "source": [
    "from sklearn.svm import SVC\n",
    "from sklearn.model_selection import cross_val_score,KFold\n",
    "\n",
    "svm = SVC(C=0.5, kernel='rbf', tol=0.00001, degree=2)\n",
    "kfold = KFold(n_splits=10, random_state=0, shuffle=True)\n",
    "cv_results = cross_val_score(svm, feature_table, target_values, cv=kfold, scoring='accuracy')\n",
    "print(\"svm: %f (%f)\" % (cv_results.mean(), cv_results.std()))\n",
    "svm.fit(feature_table, target_values)\n",
    "print('SVM Training Score: ' + str(svm.score(feature_table, target_values)*100))"
   ]
  },
  {
   "cell_type": "markdown",
   "id": "57c61474",
   "metadata": {
    "papermill": {
     "duration": 0.018364,
     "end_time": "2024-06-05T03:11:29.167712",
     "exception": false,
     "start_time": "2024-06-05T03:11:29.149348",
     "status": "completed"
    },
    "tags": []
   },
   "source": [
    "## Desition Tree Classifier"
   ]
  },
  {
   "cell_type": "code",
   "execution_count": 39,
   "id": "c2da7c68",
   "metadata": {
    "execution": {
     "iopub.execute_input": "2024-06-05T03:11:29.207058Z",
     "iopub.status.busy": "2024-06-05T03:11:29.206354Z",
     "iopub.status.idle": "2024-06-05T03:11:29.330728Z",
     "shell.execute_reply": "2024-06-05T03:11:29.329563Z"
    },
    "papermill": {
     "duration": 0.146973,
     "end_time": "2024-06-05T03:11:29.333383",
     "exception": false,
     "start_time": "2024-06-05T03:11:29.186410",
     "status": "completed"
    },
    "tags": []
   },
   "outputs": [
    {
     "name": "stdout",
     "output_type": "stream",
     "text": [
      "dt: 0.817054 (0.021388)\n",
      "Decision Tree Training Score: 82.82828282828282\n"
     ]
    }
   ],
   "source": [
    "from sklearn.tree import DecisionTreeClassifier\n",
    "\n",
    "dt = DecisionTreeClassifier(criterion='entropy', min_samples_leaf=1, min_samples_split=4, max_depth=5)\n",
    "cv_results = cross_val_score(dt, feature_table, target_values, cv=kfold, scoring='accuracy')\n",
    "print(\"dt: %f (%f)\" % (cv_results.mean(), cv_results.std()))\n",
    "dt.fit(feature_table, target_values)\n",
    "print('Decision Tree Training Score: ' + str(dt.score(feature_table, target_values)*100))"
   ]
  },
  {
   "cell_type": "markdown",
   "id": "adf5caa3",
   "metadata": {
    "papermill": {
     "duration": 0.018461,
     "end_time": "2024-06-05T03:11:29.370710",
     "exception": false,
     "start_time": "2024-06-05T03:11:29.352249",
     "status": "completed"
    },
    "tags": []
   },
   "source": [
    "## Random Forest Classifier"
   ]
  },
  {
   "cell_type": "code",
   "execution_count": 40,
   "id": "ddf38bea",
   "metadata": {
    "execution": {
     "iopub.execute_input": "2024-06-05T03:11:29.409700Z",
     "iopub.status.busy": "2024-06-05T03:11:29.409345Z",
     "iopub.status.idle": "2024-06-05T03:11:31.496657Z",
     "shell.execute_reply": "2024-06-05T03:11:31.495536Z"
    },
    "papermill": {
     "duration": 2.109661,
     "end_time": "2024-06-05T03:11:31.499051",
     "exception": false,
     "start_time": "2024-06-05T03:11:29.389390",
     "status": "completed"
    },
    "tags": []
   },
   "outputs": [
    {
     "name": "stdout",
     "output_type": "stream",
     "text": [
      "rf: 0.815930 (0.019645)\n",
      "Random Forest Training Score: 83.61391694725027\n"
     ]
    }
   ],
   "source": [
    "from sklearn.ensemble import RandomForestClassifier\n",
    "from sklearn.model_selection import cross_val_score\n",
    "\n",
    "rf = RandomForestClassifier(criterion='entropy', min_samples_leaf=1, min_samples_split=4, max_depth=5)\n",
    "cv_results = cross_val_score(rf, feature_table, target_values, cv=kfold, scoring='accuracy')\n",
    "print(\"rf: %f (%f)\" % (cv_results.mean(), cv_results.std()))\n",
    "rf.fit(feature_table, target_values)\n",
    "print('Random Forest Training Score: ' + str(rf.score(feature_table, target_values)*100))"
   ]
  },
  {
   "cell_type": "markdown",
   "id": "82d9a15e",
   "metadata": {
    "papermill": {
     "duration": 0.018853,
     "end_time": "2024-06-05T03:11:31.536947",
     "exception": false,
     "start_time": "2024-06-05T03:11:31.518094",
     "status": "completed"
    },
    "tags": []
   },
   "source": [
    "## K-Nearest Neigbhours"
   ]
  },
  {
   "cell_type": "code",
   "execution_count": 41,
   "id": "f2f25337",
   "metadata": {
    "execution": {
     "iopub.execute_input": "2024-06-05T03:11:31.577157Z",
     "iopub.status.busy": "2024-06-05T03:11:31.576166Z",
     "iopub.status.idle": "2024-06-05T03:11:31.719184Z",
     "shell.execute_reply": "2024-06-05T03:11:31.717927Z"
    },
    "papermill": {
     "duration": 0.165633,
     "end_time": "2024-06-05T03:11:31.721633",
     "exception": false,
     "start_time": "2024-06-05T03:11:31.556000",
     "status": "completed"
    },
    "tags": []
   },
   "outputs": [
    {
     "name": "stdout",
     "output_type": "stream",
     "text": [
      "knn: 0.813670 (0.023288)\n",
      "K Nearest Neighbors Training Score: 83.05274971941638\n"
     ]
    }
   ],
   "source": [
    "from sklearn.neighbors import KNeighborsClassifier\n",
    "from sklearn.model_selection import cross_val_score\n",
    "\n",
    "knn = KNeighborsClassifier()\n",
    "cv_results = cross_val_score(knn, feature_table, target_values, cv=kfold, scoring='accuracy')\n",
    "print(\"knn: %f (%f)\" % (cv_results.mean(), cv_results.std()))\n",
    "knn.fit(feature_table, target_values)\n",
    "print('K Nearest Neighbors Training Score: ' + str(knn.score(feature_table, target_values)*100))"
   ]
  },
  {
   "cell_type": "code",
   "execution_count": 42,
   "id": "e061d17e",
   "metadata": {
    "execution": {
     "iopub.execute_input": "2024-06-05T03:11:31.762272Z",
     "iopub.status.busy": "2024-06-05T03:11:31.761369Z",
     "iopub.status.idle": "2024-06-05T03:11:34.052135Z",
     "shell.execute_reply": "2024-06-05T03:11:34.051269Z"
    },
    "papermill": {
     "duration": 2.313681,
     "end_time": "2024-06-05T03:11:34.054778",
     "exception": false,
     "start_time": "2024-06-05T03:11:31.741097",
     "status": "completed"
    },
    "tags": []
   },
   "outputs": [
    {
     "name": "stdout",
     "output_type": "stream",
     "text": [
      "voting result: 0.817054 (0.020790)\n"
     ]
    },
    {
     "data": {
      "text/html": [
       "<style>#sk-container-id-1 {color: black;background-color: white;}#sk-container-id-1 pre{padding: 0;}#sk-container-id-1 div.sk-toggleable {background-color: white;}#sk-container-id-1 label.sk-toggleable__label {cursor: pointer;display: block;width: 100%;margin-bottom: 0;padding: 0.3em;box-sizing: border-box;text-align: center;}#sk-container-id-1 label.sk-toggleable__label-arrow:before {content: \"▸\";float: left;margin-right: 0.25em;color: #696969;}#sk-container-id-1 label.sk-toggleable__label-arrow:hover:before {color: black;}#sk-container-id-1 div.sk-estimator:hover label.sk-toggleable__label-arrow:before {color: black;}#sk-container-id-1 div.sk-toggleable__content {max-height: 0;max-width: 0;overflow: hidden;text-align: left;background-color: #f0f8ff;}#sk-container-id-1 div.sk-toggleable__content pre {margin: 0.2em;color: black;border-radius: 0.25em;background-color: #f0f8ff;}#sk-container-id-1 input.sk-toggleable__control:checked~div.sk-toggleable__content {max-height: 200px;max-width: 100%;overflow: auto;}#sk-container-id-1 input.sk-toggleable__control:checked~label.sk-toggleable__label-arrow:before {content: \"▾\";}#sk-container-id-1 div.sk-estimator input.sk-toggleable__control:checked~label.sk-toggleable__label {background-color: #d4ebff;}#sk-container-id-1 div.sk-label input.sk-toggleable__control:checked~label.sk-toggleable__label {background-color: #d4ebff;}#sk-container-id-1 input.sk-hidden--visually {border: 0;clip: rect(1px 1px 1px 1px);clip: rect(1px, 1px, 1px, 1px);height: 1px;margin: -1px;overflow: hidden;padding: 0;position: absolute;width: 1px;}#sk-container-id-1 div.sk-estimator {font-family: monospace;background-color: #f0f8ff;border: 1px dotted black;border-radius: 0.25em;box-sizing: border-box;margin-bottom: 0.5em;}#sk-container-id-1 div.sk-estimator:hover {background-color: #d4ebff;}#sk-container-id-1 div.sk-parallel-item::after {content: \"\";width: 100%;border-bottom: 1px solid gray;flex-grow: 1;}#sk-container-id-1 div.sk-label:hover label.sk-toggleable__label {background-color: #d4ebff;}#sk-container-id-1 div.sk-serial::before {content: \"\";position: absolute;border-left: 1px solid gray;box-sizing: border-box;top: 0;bottom: 0;left: 50%;z-index: 0;}#sk-container-id-1 div.sk-serial {display: flex;flex-direction: column;align-items: center;background-color: white;padding-right: 0.2em;padding-left: 0.2em;position: relative;}#sk-container-id-1 div.sk-item {position: relative;z-index: 1;}#sk-container-id-1 div.sk-parallel {display: flex;align-items: stretch;justify-content: center;background-color: white;position: relative;}#sk-container-id-1 div.sk-item::before, #sk-container-id-1 div.sk-parallel-item::before {content: \"\";position: absolute;border-left: 1px solid gray;box-sizing: border-box;top: 0;bottom: 0;left: 50%;z-index: -1;}#sk-container-id-1 div.sk-parallel-item {display: flex;flex-direction: column;z-index: 1;position: relative;background-color: white;}#sk-container-id-1 div.sk-parallel-item:first-child::after {align-self: flex-end;width: 50%;}#sk-container-id-1 div.sk-parallel-item:last-child::after {align-self: flex-start;width: 50%;}#sk-container-id-1 div.sk-parallel-item:only-child::after {width: 0;}#sk-container-id-1 div.sk-dashed-wrapped {border: 1px dashed gray;margin: 0 0.4em 0.5em 0.4em;box-sizing: border-box;padding-bottom: 0.4em;background-color: white;}#sk-container-id-1 div.sk-label label {font-family: monospace;font-weight: bold;display: inline-block;line-height: 1.2em;}#sk-container-id-1 div.sk-label-container {text-align: center;}#sk-container-id-1 div.sk-container {/* jupyter's `normalize.less` sets `[hidden] { display: none; }` but bootstrap.min.css set `[hidden] { display: none !important; }` so we also need the `!important` here to be able to override the default hidden behavior on the sphinx rendered scikit-learn.org. See: https://github.com/scikit-learn/scikit-learn/issues/21755 */display: inline-block !important;position: relative;}#sk-container-id-1 div.sk-text-repr-fallback {display: none;}</style><div id=\"sk-container-id-1\" class=\"sk-top-container\"><div class=\"sk-text-repr-fallback\"><pre>VotingClassifier(estimators=[(&#x27;svm&#x27;, SVC(C=0.5, degree=2, tol=1e-05)),\n",
       "                             (&#x27;dt&#x27;,\n",
       "                              DecisionTreeClassifier(criterion=&#x27;entropy&#x27;,\n",
       "                                                     max_depth=5,\n",
       "                                                     min_samples_split=4)),\n",
       "                             (&#x27;rf&#x27;,\n",
       "                              RandomForestClassifier(criterion=&#x27;entropy&#x27;,\n",
       "                                                     max_depth=5,\n",
       "                                                     min_samples_split=4)),\n",
       "                             (&#x27;knn&#x27;, KNeighborsClassifier())])</pre><b>In a Jupyter environment, please rerun this cell to show the HTML representation or trust the notebook. <br />On GitHub, the HTML representation is unable to render, please try loading this page with nbviewer.org.</b></div><div class=\"sk-container\" hidden><div class=\"sk-item sk-dashed-wrapped\"><div class=\"sk-label-container\"><div class=\"sk-label sk-toggleable\"><input class=\"sk-toggleable__control sk-hidden--visually\" id=\"sk-estimator-id-1\" type=\"checkbox\" ><label for=\"sk-estimator-id-1\" class=\"sk-toggleable__label sk-toggleable__label-arrow\">VotingClassifier</label><div class=\"sk-toggleable__content\"><pre>VotingClassifier(estimators=[(&#x27;svm&#x27;, SVC(C=0.5, degree=2, tol=1e-05)),\n",
       "                             (&#x27;dt&#x27;,\n",
       "                              DecisionTreeClassifier(criterion=&#x27;entropy&#x27;,\n",
       "                                                     max_depth=5,\n",
       "                                                     min_samples_split=4)),\n",
       "                             (&#x27;rf&#x27;,\n",
       "                              RandomForestClassifier(criterion=&#x27;entropy&#x27;,\n",
       "                                                     max_depth=5,\n",
       "                                                     min_samples_split=4)),\n",
       "                             (&#x27;knn&#x27;, KNeighborsClassifier())])</pre></div></div></div><div class=\"sk-parallel\"><div class=\"sk-parallel-item\"><div class=\"sk-item\"><div class=\"sk-label-container\"><div class=\"sk-label sk-toggleable\"><label>svm</label></div></div><div class=\"sk-serial\"><div class=\"sk-item\"><div class=\"sk-estimator sk-toggleable\"><input class=\"sk-toggleable__control sk-hidden--visually\" id=\"sk-estimator-id-2\" type=\"checkbox\" ><label for=\"sk-estimator-id-2\" class=\"sk-toggleable__label sk-toggleable__label-arrow\">SVC</label><div class=\"sk-toggleable__content\"><pre>SVC(C=0.5, degree=2, tol=1e-05)</pre></div></div></div></div></div></div><div class=\"sk-parallel-item\"><div class=\"sk-item\"><div class=\"sk-label-container\"><div class=\"sk-label sk-toggleable\"><label>dt</label></div></div><div class=\"sk-serial\"><div class=\"sk-item\"><div class=\"sk-estimator sk-toggleable\"><input class=\"sk-toggleable__control sk-hidden--visually\" id=\"sk-estimator-id-3\" type=\"checkbox\" ><label for=\"sk-estimator-id-3\" class=\"sk-toggleable__label sk-toggleable__label-arrow\">DecisionTreeClassifier</label><div class=\"sk-toggleable__content\"><pre>DecisionTreeClassifier(criterion=&#x27;entropy&#x27;, max_depth=5, min_samples_split=4)</pre></div></div></div></div></div></div><div class=\"sk-parallel-item\"><div class=\"sk-item\"><div class=\"sk-label-container\"><div class=\"sk-label sk-toggleable\"><label>rf</label></div></div><div class=\"sk-serial\"><div class=\"sk-item\"><div class=\"sk-estimator sk-toggleable\"><input class=\"sk-toggleable__control sk-hidden--visually\" id=\"sk-estimator-id-4\" type=\"checkbox\" ><label for=\"sk-estimator-id-4\" class=\"sk-toggleable__label sk-toggleable__label-arrow\">RandomForestClassifier</label><div class=\"sk-toggleable__content\"><pre>RandomForestClassifier(criterion=&#x27;entropy&#x27;, max_depth=5, min_samples_split=4)</pre></div></div></div></div></div></div><div class=\"sk-parallel-item\"><div class=\"sk-item\"><div class=\"sk-label-container\"><div class=\"sk-label sk-toggleable\"><label>knn</label></div></div><div class=\"sk-serial\"><div class=\"sk-item\"><div class=\"sk-estimator sk-toggleable\"><input class=\"sk-toggleable__control sk-hidden--visually\" id=\"sk-estimator-id-5\" type=\"checkbox\" ><label for=\"sk-estimator-id-5\" class=\"sk-toggleable__label sk-toggleable__label-arrow\">KNeighborsClassifier</label><div class=\"sk-toggleable__content\"><pre>KNeighborsClassifier()</pre></div></div></div></div></div></div></div></div></div></div>"
      ],
      "text/plain": [
       "VotingClassifier(estimators=[('svm', SVC(C=0.5, degree=2, tol=1e-05)),\n",
       "                             ('dt',\n",
       "                              DecisionTreeClassifier(criterion='entropy',\n",
       "                                                     max_depth=5,\n",
       "                                                     min_samples_split=4)),\n",
       "                             ('rf',\n",
       "                              RandomForestClassifier(criterion='entropy',\n",
       "                                                     max_depth=5,\n",
       "                                                     min_samples_split=4)),\n",
       "                             ('knn', KNeighborsClassifier())])"
      ]
     },
     "execution_count": 42,
     "metadata": {},
     "output_type": "execute_result"
    }
   ],
   "source": [
    "from sklearn.ensemble import BaggingClassifier, VotingClassifier\n",
    "\n",
    "voting_classifier = VotingClassifier(estimators=[\n",
    "    ('svm', svm), \n",
    "    ('dt', dt),\n",
    "    ('rf', rf),\n",
    "    ('knn', knn)], voting='hard')\n",
    "cv_results = cross_val_score(voting_classifier, feature_table, target_values, cv=kfold, scoring='accuracy')\n",
    "print(\"voting result: %f (%f)\" % (cv_results.mean(), cv_results.std()))\n",
    "voting_classifier.fit(feature_table, target_values)"
   ]
  },
  {
   "cell_type": "markdown",
   "id": "93702870",
   "metadata": {
    "papermill": {
     "duration": 0.019453,
     "end_time": "2024-06-05T03:11:34.093965",
     "exception": false,
     "start_time": "2024-06-05T03:11:34.074512",
     "status": "completed"
    },
    "tags": []
   },
   "source": [
    "# Data Preparation and Prediction on Test Data"
   ]
  },
  {
   "cell_type": "code",
   "execution_count": 43,
   "id": "806e194d",
   "metadata": {
    "execution": {
     "iopub.execute_input": "2024-06-05T03:11:34.135402Z",
     "iopub.status.busy": "2024-06-05T03:11:34.135024Z",
     "iopub.status.idle": "2024-06-05T03:11:34.156785Z",
     "shell.execute_reply": "2024-06-05T03:11:34.155659Z"
    },
    "papermill": {
     "duration": 0.045251,
     "end_time": "2024-06-05T03:11:34.159279",
     "exception": false,
     "start_time": "2024-06-05T03:11:34.114028",
     "status": "completed"
    },
    "tags": []
   },
   "outputs": [],
   "source": [
    "# Data processing and value imputing for test data\n",
    "test.loc[test[\"Embarked\"] == \"S\", \"Embarked\"] = 0\n",
    "test.loc[test[\"Embarked\"] == \"C\", \"Embarked\"] = 1\n",
    "test.loc[test[\"Embarked\"] == \"Q\", \"Embarked\"] = 2\n",
    "test[\"Embarked\"] = test[\"Embarked\"].fillna(test[\"Embarked\"].mode()[0])\n",
    "test.loc[test[\"Sex\"] == \"male\", \"Sex\"] = 0\n",
    "test.loc[test[\"Sex\"] == \"female\", \"Sex\"] = 1\n",
    "test[\"Sex\"] = test[\"Sex\"].fillna(test[\"Sex\"].mode()[0])\n",
    "test[\"Age\"] = test[\"Age\"].fillna(test[\"Age\"].median())\n",
    "test.loc[test[\"Age\"] < 16, \"Age\"] = 0\n",
    "test.loc[(test[\"Age\"] >= 16) & (test[\"Age\"] < 60), \"Age\"] = 1\n",
    "test.loc[test[\"Age\"] >= 60, \"Age\"] = 2\n",
    "test[\"Fare\"] = test[\"Fare\"].fillna(test[\"Fare\"].median())\n",
    "test[\"Fare\"] = np.log10(test[\"Fare\"] + 1).astype(int)\n",
    "test[\"Parch\"] = test[\"Parch\"].fillna(test[\"Parch\"].mode()[0])\n",
    "test[\"SibSp\"] = test[\"SibSp\"].fillna(test[\"SibSp\"].mode()[0])\n",
    "test[\"Relatives\"] = test[\"SibSp\"] + test[\"Parch\"]\n",
    "test[\"Relatives\"] = test[\"Relatives\"].fillna(test[\"Relatives\"].mode()[0])\n"
   ]
  },
  {
   "cell_type": "code",
   "execution_count": 44,
   "id": "96b8415c",
   "metadata": {
    "execution": {
     "iopub.execute_input": "2024-06-05T03:11:34.200912Z",
     "iopub.status.busy": "2024-06-05T03:11:34.200498Z",
     "iopub.status.idle": "2024-06-05T03:11:34.209085Z",
     "shell.execute_reply": "2024-06-05T03:11:34.208107Z"
    },
    "papermill": {
     "duration": 0.032187,
     "end_time": "2024-06-05T03:11:34.211261",
     "exception": false,
     "start_time": "2024-06-05T03:11:34.179074",
     "status": "completed"
    },
    "tags": []
   },
   "outputs": [],
   "source": [
    "# Test features preparation\n",
    "test_features = test[[\"Pclass\", \"Sex\", \"Age\", \"Fare\", \"SibSp\", \"Parch\"]]\n",
    "test_features = scaler.transform(test_features)"
   ]
  },
  {
   "cell_type": "code",
   "execution_count": 45,
   "id": "478860f5",
   "metadata": {
    "execution": {
     "iopub.execute_input": "2024-06-05T03:11:34.252580Z",
     "iopub.status.busy": "2024-06-05T03:11:34.252184Z",
     "iopub.status.idle": "2024-06-05T03:11:34.301333Z",
     "shell.execute_reply": "2024-06-05T03:11:34.300282Z"
    },
    "papermill": {
     "duration": 0.072459,
     "end_time": "2024-06-05T03:11:34.303679",
     "exception": false,
     "start_time": "2024-06-05T03:11:34.231220",
     "status": "completed"
    },
    "tags": []
   },
   "outputs": [],
   "source": [
    "# Making predictions using the ensemble model\n",
    "test_predictions = voting_classifier.predict(test_features)"
   ]
  },
  {
   "cell_type": "code",
   "execution_count": 46,
   "id": "a16746d8",
   "metadata": {
    "execution": {
     "iopub.execute_input": "2024-06-05T03:11:34.345445Z",
     "iopub.status.busy": "2024-06-05T03:11:34.344730Z",
     "iopub.status.idle": "2024-06-05T03:11:34.354022Z",
     "shell.execute_reply": "2024-06-05T03:11:34.352990Z"
    },
    "papermill": {
     "duration": 0.032889,
     "end_time": "2024-06-05T03:11:34.356321",
     "exception": false,
     "start_time": "2024-06-05T03:11:34.323432",
     "status": "completed"
    },
    "tags": []
   },
   "outputs": [],
   "source": [
    "# Saving predictions to CSV\n",
    "passenger_id = test[\"PassengerId\"].values\n",
    "my_solution = pd.DataFrame(test_predictions, passenger_id, columns=[\"Survived\"])\n",
    "my_solution.to_csv(\"Submissions.csv\", index_label=[\"PassengerId\"])"
   ]
  },
  {
   "cell_type": "code",
   "execution_count": null,
   "id": "550f7075",
   "metadata": {
    "papermill": {
     "duration": 0.019977,
     "end_time": "2024-06-05T03:11:34.396417",
     "exception": false,
     "start_time": "2024-06-05T03:11:34.376440",
     "status": "completed"
    },
    "tags": []
   },
   "outputs": [],
   "source": []
  }
 ],
 "metadata": {
  "kaggle": {
   "accelerator": "none",
   "dataSources": [
    {
     "databundleVersionId": 26502,
     "sourceId": 3136,
     "sourceType": "competition"
    }
   ],
   "dockerImageVersionId": 30732,
   "isGpuEnabled": false,
   "isInternetEnabled": true,
   "language": "python",
   "sourceType": "notebook"
  },
  "kernelspec": {
   "display_name": "Python 3",
   "language": "python",
   "name": "python3"
  },
  "language_info": {
   "codemirror_mode": {
    "name": "ipython",
    "version": 3
   },
   "file_extension": ".py",
   "mimetype": "text/x-python",
   "name": "python",
   "nbconvert_exporter": "python",
   "pygments_lexer": "ipython3",
   "version": "3.10.13"
  },
  "papermill": {
   "default_parameters": {},
   "duration": 18.849739,
   "end_time": "2024-06-05T03:11:35.038840",
   "environment_variables": {},
   "exception": null,
   "input_path": "__notebook__.ipynb",
   "output_path": "__notebook__.ipynb",
   "parameters": {},
   "start_time": "2024-06-05T03:11:16.189101",
   "version": "2.5.0"
  }
 },
 "nbformat": 4,
 "nbformat_minor": 5
}
